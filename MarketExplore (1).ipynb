{
 "cells": [
  {
   "cell_type": "code",
   "execution_count": 1,
   "metadata": {},
   "outputs": [],
   "source": [
    "import numpy as np \n",
    "import pandas as pd \n",
    "import matplotlib.pyplot as plt\n",
    "import seaborn as sns\n",
    "from scipy.stats import skew, kurtosis"
   ]
  },
  {
   "cell_type": "markdown",
   "metadata": {},
   "source": [
    "# Data Preparation"
   ]
  },
  {
   "cell_type": "code",
   "execution_count": 2,
   "metadata": {},
   "outputs": [
    {
     "data": {
      "text/html": [
       "<div>\n",
       "<style scoped>\n",
       "    .dataframe tbody tr th:only-of-type {\n",
       "        vertical-align: middle;\n",
       "    }\n",
       "\n",
       "    .dataframe tbody tr th {\n",
       "        vertical-align: top;\n",
       "    }\n",
       "\n",
       "    .dataframe thead th {\n",
       "        text-align: right;\n",
       "    }\n",
       "</style>\n",
       "<table border=\"1\" class=\"dataframe\">\n",
       "  <thead>\n",
       "    <tr style=\"text-align: right;\">\n",
       "      <th></th>\n",
       "      <th>artist_id</th>\n",
       "      <th>artist_name</th>\n",
       "      <th>total_followers</th>\n",
       "      <th>genres</th>\n",
       "      <th>popularity</th>\n",
       "    </tr>\n",
       "  </thead>\n",
       "  <tbody>\n",
       "    <tr>\n",
       "      <th>0</th>\n",
       "      <td>0du5cEVh5yTK9QJze8zA0C</td>\n",
       "      <td>Bruno Mars</td>\n",
       "      <td>28322108</td>\n",
       "      <td>['dance pop', 'pop']</td>\n",
       "      <td>88</td>\n",
       "    </tr>\n",
       "    <tr>\n",
       "      <th>1</th>\n",
       "      <td>4IWBUUAFIplrNtaOHcJPRM</td>\n",
       "      <td>James Arthur</td>\n",
       "      <td>7279217</td>\n",
       "      <td>['pop', 'talent show', 'uk pop']</td>\n",
       "      <td>86</td>\n",
       "    </tr>\n",
       "    <tr>\n",
       "      <th>2</th>\n",
       "      <td>69GGBxA162lTqCwzJG5jLp</td>\n",
       "      <td>The Chainsmokers</td>\n",
       "      <td>17241689</td>\n",
       "      <td>['dance pop', 'edm', 'electropop', 'pop', 'pop...</td>\n",
       "      <td>85</td>\n",
       "    </tr>\n",
       "    <tr>\n",
       "      <th>3</th>\n",
       "      <td>04gDigrS5kc9YWfZHwBETP</td>\n",
       "      <td>Maroon 5</td>\n",
       "      <td>28845735</td>\n",
       "      <td>['pop', 'pop rock']</td>\n",
       "      <td>88</td>\n",
       "    </tr>\n",
       "    <tr>\n",
       "      <th>4</th>\n",
       "      <td>5p7f24Rk5HkUZsaS3BLG5F</td>\n",
       "      <td>Hailee Steinfeld</td>\n",
       "      <td>6407022</td>\n",
       "      <td>['dance pop', 'pop', 'pop dance', 'post-teen p...</td>\n",
       "      <td>78</td>\n",
       "    </tr>\n",
       "  </tbody>\n",
       "</table>\n",
       "</div>"
      ],
      "text/plain": [
       "                artist_id       artist_name  total_followers  \\\n",
       "0  0du5cEVh5yTK9QJze8zA0C        Bruno Mars         28322108   \n",
       "1  4IWBUUAFIplrNtaOHcJPRM      James Arthur          7279217   \n",
       "2  69GGBxA162lTqCwzJG5jLp  The Chainsmokers         17241689   \n",
       "3  04gDigrS5kc9YWfZHwBETP          Maroon 5         28845735   \n",
       "4  5p7f24Rk5HkUZsaS3BLG5F  Hailee Steinfeld          6407022   \n",
       "\n",
       "                                              genres  popularity  \n",
       "0                               ['dance pop', 'pop']          88  \n",
       "1                   ['pop', 'talent show', 'uk pop']          86  \n",
       "2  ['dance pop', 'edm', 'electropop', 'pop', 'pop...          85  \n",
       "3                                ['pop', 'pop rock']          88  \n",
       "4  ['dance pop', 'pop', 'pop dance', 'post-teen p...          78  "
      ]
     },
     "execution_count": 2,
     "metadata": {},
     "output_type": "execute_result"
    }
   ],
   "source": [
    "artists_df = pd.read_csv('archive/spotify_daily_charts_artists.csv')\n",
    "artists_df.head()"
   ]
  },
  {
   "cell_type": "code",
   "execution_count": 3,
   "metadata": {
    "scrolled": true
   },
   "outputs": [
    {
     "data": {
      "text/html": [
       "<div>\n",
       "<style scoped>\n",
       "    .dataframe tbody tr th:only-of-type {\n",
       "        vertical-align: middle;\n",
       "    }\n",
       "\n",
       "    .dataframe tbody tr th {\n",
       "        vertical-align: top;\n",
       "    }\n",
       "\n",
       "    .dataframe thead th {\n",
       "        text-align: right;\n",
       "    }\n",
       "</style>\n",
       "<table border=\"1\" class=\"dataframe\">\n",
       "  <thead>\n",
       "    <tr style=\"text-align: right;\">\n",
       "      <th></th>\n",
       "      <th>date</th>\n",
       "      <th>position</th>\n",
       "      <th>track_id</th>\n",
       "      <th>track_name</th>\n",
       "      <th>artist</th>\n",
       "      <th>streams</th>\n",
       "    </tr>\n",
       "  </thead>\n",
       "  <tbody>\n",
       "    <tr>\n",
       "      <th>0</th>\n",
       "      <td>2017-01-01</td>\n",
       "      <td>1</td>\n",
       "      <td>0kN8xEmgMW9mh7UmDYHlJP</td>\n",
       "      <td>Versace on the Floor</td>\n",
       "      <td>Bruno Mars</td>\n",
       "      <td>185236</td>\n",
       "    </tr>\n",
       "    <tr>\n",
       "      <th>1</th>\n",
       "      <td>2017-01-01</td>\n",
       "      <td>2</td>\n",
       "      <td>5uCax9HTNlzGybIStD3vDh</td>\n",
       "      <td>Say You Won't Let Go</td>\n",
       "      <td>James Arthur</td>\n",
       "      <td>180552</td>\n",
       "    </tr>\n",
       "    <tr>\n",
       "      <th>2</th>\n",
       "      <td>2017-01-01</td>\n",
       "      <td>3</td>\n",
       "      <td>7BKLCZ1jbUBVqRi2FVlTVw</td>\n",
       "      <td>Closer</td>\n",
       "      <td>The Chainsmokers</td>\n",
       "      <td>158720</td>\n",
       "    </tr>\n",
       "    <tr>\n",
       "      <th>3</th>\n",
       "      <td>2017-01-01</td>\n",
       "      <td>4</td>\n",
       "      <td>2rizacJSyD9S1IQUxUxnsK</td>\n",
       "      <td>All We Know</td>\n",
       "      <td>The Chainsmokers</td>\n",
       "      <td>130874</td>\n",
       "    </tr>\n",
       "    <tr>\n",
       "      <th>4</th>\n",
       "      <td>2017-01-01</td>\n",
       "      <td>5</td>\n",
       "      <td>5MFzQMkrl1FOOng9tq6R9r</td>\n",
       "      <td>Don't Wanna Know</td>\n",
       "      <td>Maroon 5</td>\n",
       "      <td>129656</td>\n",
       "    </tr>\n",
       "  </tbody>\n",
       "</table>\n",
       "</div>"
      ],
      "text/plain": [
       "         date  position                track_id            track_name  \\\n",
       "0  2017-01-01         1  0kN8xEmgMW9mh7UmDYHlJP  Versace on the Floor   \n",
       "1  2017-01-01         2  5uCax9HTNlzGybIStD3vDh  Say You Won't Let Go   \n",
       "2  2017-01-01         3  7BKLCZ1jbUBVqRi2FVlTVw                Closer   \n",
       "3  2017-01-01         4  2rizacJSyD9S1IQUxUxnsK           All We Know   \n",
       "4  2017-01-01         5  5MFzQMkrl1FOOng9tq6R9r      Don't Wanna Know   \n",
       "\n",
       "             artist  streams  \n",
       "0        Bruno Mars   185236  \n",
       "1      James Arthur   180552  \n",
       "2  The Chainsmokers   158720  \n",
       "3  The Chainsmokers   130874  \n",
       "4          Maroon 5   129656  "
      ]
     },
     "execution_count": 3,
     "metadata": {},
     "output_type": "execute_result"
    }
   ],
   "source": [
    "charts_df = pd.read_csv('archive/spotify_daily_charts.csv')\n",
    "charts_df.head()"
   ]
  },
  {
   "cell_type": "code",
   "execution_count": 4,
   "metadata": {
    "scrolled": false
   },
   "outputs": [
    {
     "data": {
      "text/html": [
       "<div>\n",
       "<style scoped>\n",
       "    .dataframe tbody tr th:only-of-type {\n",
       "        vertical-align: middle;\n",
       "    }\n",
       "\n",
       "    .dataframe tbody tr th {\n",
       "        vertical-align: top;\n",
       "    }\n",
       "\n",
       "    .dataframe thead th {\n",
       "        text-align: right;\n",
       "    }\n",
       "</style>\n",
       "<table border=\"1\" class=\"dataframe\">\n",
       "  <thead>\n",
       "    <tr style=\"text-align: right;\">\n",
       "      <th></th>\n",
       "      <th>track_id</th>\n",
       "      <th>track_name</th>\n",
       "      <th>artist_id</th>\n",
       "      <th>artist_name</th>\n",
       "      <th>album_id</th>\n",
       "      <th>duration</th>\n",
       "      <th>release_date</th>\n",
       "      <th>popularity</th>\n",
       "      <th>danceability</th>\n",
       "      <th>energy</th>\n",
       "      <th>key</th>\n",
       "      <th>loudness</th>\n",
       "      <th>mode</th>\n",
       "      <th>speechiness</th>\n",
       "      <th>acousticness</th>\n",
       "      <th>instrumentalness</th>\n",
       "      <th>liveness</th>\n",
       "      <th>valence</th>\n",
       "      <th>tempo</th>\n",
       "    </tr>\n",
       "  </thead>\n",
       "  <tbody>\n",
       "    <tr>\n",
       "      <th>0</th>\n",
       "      <td>0kN8xEmgMW9mh7UmDYHlJP</td>\n",
       "      <td>Versace on the Floor</td>\n",
       "      <td>0du5cEVh5yTK9QJze8zA0C</td>\n",
       "      <td>Bruno Mars</td>\n",
       "      <td>4PgleR09JVnm3zY1fW3XBA</td>\n",
       "      <td>261240</td>\n",
       "      <td>2016-11-17</td>\n",
       "      <td>76</td>\n",
       "      <td>0.578</td>\n",
       "      <td>0.574</td>\n",
       "      <td>2</td>\n",
       "      <td>-6.209</td>\n",
       "      <td>1</td>\n",
       "      <td>0.0454</td>\n",
       "      <td>0.196</td>\n",
       "      <td>0.00000</td>\n",
       "      <td>0.0830</td>\n",
       "      <td>0.301</td>\n",
       "      <td>174.152</td>\n",
       "    </tr>\n",
       "    <tr>\n",
       "      <th>1</th>\n",
       "      <td>5uCax9HTNlzGybIStD3vDh</td>\n",
       "      <td>Say You Won't Let Go</td>\n",
       "      <td>4IWBUUAFIplrNtaOHcJPRM</td>\n",
       "      <td>James Arthur</td>\n",
       "      <td>7oiJYvEJHsmYtrgviAVIBD</td>\n",
       "      <td>211466</td>\n",
       "      <td>2016-10-28</td>\n",
       "      <td>88</td>\n",
       "      <td>0.358</td>\n",
       "      <td>0.557</td>\n",
       "      <td>10</td>\n",
       "      <td>-7.398</td>\n",
       "      <td>1</td>\n",
       "      <td>0.0590</td>\n",
       "      <td>0.695</td>\n",
       "      <td>0.00000</td>\n",
       "      <td>0.0902</td>\n",
       "      <td>0.494</td>\n",
       "      <td>85.043</td>\n",
       "    </tr>\n",
       "    <tr>\n",
       "      <th>2</th>\n",
       "      <td>7BKLCZ1jbUBVqRi2FVlTVw</td>\n",
       "      <td>Closer</td>\n",
       "      <td>69GGBxA162lTqCwzJG5jLp</td>\n",
       "      <td>The Chainsmokers</td>\n",
       "      <td>0rSLgV8p5FzfnqlEk4GzxE</td>\n",
       "      <td>244960</td>\n",
       "      <td>2016-07-29</td>\n",
       "      <td>87</td>\n",
       "      <td>0.748</td>\n",
       "      <td>0.524</td>\n",
       "      <td>8</td>\n",
       "      <td>-5.599</td>\n",
       "      <td>1</td>\n",
       "      <td>0.0338</td>\n",
       "      <td>0.414</td>\n",
       "      <td>0.00000</td>\n",
       "      <td>0.1110</td>\n",
       "      <td>0.661</td>\n",
       "      <td>95.010</td>\n",
       "    </tr>\n",
       "    <tr>\n",
       "      <th>3</th>\n",
       "      <td>2rizacJSyD9S1IQUxUxnsK</td>\n",
       "      <td>All We Know</td>\n",
       "      <td>69GGBxA162lTqCwzJG5jLp</td>\n",
       "      <td>The Chainsmokers</td>\n",
       "      <td>0xmaV6EtJ4M3ebZUPRnhyb</td>\n",
       "      <td>194080</td>\n",
       "      <td>2016-09-29</td>\n",
       "      <td>71</td>\n",
       "      <td>0.662</td>\n",
       "      <td>0.586</td>\n",
       "      <td>0</td>\n",
       "      <td>-8.821</td>\n",
       "      <td>1</td>\n",
       "      <td>0.0307</td>\n",
       "      <td>0.097</td>\n",
       "      <td>0.00272</td>\n",
       "      <td>0.1150</td>\n",
       "      <td>0.296</td>\n",
       "      <td>90.000</td>\n",
       "    </tr>\n",
       "    <tr>\n",
       "      <th>4</th>\n",
       "      <td>5MFzQMkrl1FOOng9tq6R9r</td>\n",
       "      <td>Don't Wanna Know</td>\n",
       "      <td>04gDigrS5kc9YWfZHwBETP</td>\n",
       "      <td>Maroon 5</td>\n",
       "      <td>0fvTn3WXF39kQs9i3bnNpP</td>\n",
       "      <td>214480</td>\n",
       "      <td>2016-10-11</td>\n",
       "      <td>1</td>\n",
       "      <td>0.783</td>\n",
       "      <td>0.623</td>\n",
       "      <td>7</td>\n",
       "      <td>-6.126</td>\n",
       "      <td>1</td>\n",
       "      <td>0.0800</td>\n",
       "      <td>0.338</td>\n",
       "      <td>0.00000</td>\n",
       "      <td>0.0975</td>\n",
       "      <td>0.447</td>\n",
       "      <td>100.048</td>\n",
       "    </tr>\n",
       "  </tbody>\n",
       "</table>\n",
       "</div>"
      ],
      "text/plain": [
       "                 track_id            track_name               artist_id  \\\n",
       "0  0kN8xEmgMW9mh7UmDYHlJP  Versace on the Floor  0du5cEVh5yTK9QJze8zA0C   \n",
       "1  5uCax9HTNlzGybIStD3vDh  Say You Won't Let Go  4IWBUUAFIplrNtaOHcJPRM   \n",
       "2  7BKLCZ1jbUBVqRi2FVlTVw                Closer  69GGBxA162lTqCwzJG5jLp   \n",
       "3  2rizacJSyD9S1IQUxUxnsK           All We Know  69GGBxA162lTqCwzJG5jLp   \n",
       "4  5MFzQMkrl1FOOng9tq6R9r      Don't Wanna Know  04gDigrS5kc9YWfZHwBETP   \n",
       "\n",
       "        artist_name                album_id  duration release_date  \\\n",
       "0        Bruno Mars  4PgleR09JVnm3zY1fW3XBA    261240   2016-11-17   \n",
       "1      James Arthur  7oiJYvEJHsmYtrgviAVIBD    211466   2016-10-28   \n",
       "2  The Chainsmokers  0rSLgV8p5FzfnqlEk4GzxE    244960   2016-07-29   \n",
       "3  The Chainsmokers  0xmaV6EtJ4M3ebZUPRnhyb    194080   2016-09-29   \n",
       "4          Maroon 5  0fvTn3WXF39kQs9i3bnNpP    214480   2016-10-11   \n",
       "\n",
       "   popularity  danceability  energy  key  loudness  mode  speechiness  \\\n",
       "0          76         0.578   0.574    2    -6.209     1       0.0454   \n",
       "1          88         0.358   0.557   10    -7.398     1       0.0590   \n",
       "2          87         0.748   0.524    8    -5.599     1       0.0338   \n",
       "3          71         0.662   0.586    0    -8.821     1       0.0307   \n",
       "4           1         0.783   0.623    7    -6.126     1       0.0800   \n",
       "\n",
       "   acousticness  instrumentalness  liveness  valence    tempo  \n",
       "0         0.196           0.00000    0.0830    0.301  174.152  \n",
       "1         0.695           0.00000    0.0902    0.494   85.043  \n",
       "2         0.414           0.00000    0.1110    0.661   95.010  \n",
       "3         0.097           0.00272    0.1150    0.296   90.000  \n",
       "4         0.338           0.00000    0.0975    0.447  100.048  "
      ]
     },
     "execution_count": 4,
     "metadata": {},
     "output_type": "execute_result"
    }
   ],
   "source": [
    "tracks_df = pd.read_csv('archive/spotify_daily_charts_tracks.csv')\n",
    "tracks_df.head()"
   ]
  },
  {
   "cell_type": "markdown",
   "metadata": {},
   "source": [
    "Merge datasets into a master data"
   ]
  },
  {
   "cell_type": "code",
   "execution_count": 5,
   "metadata": {},
   "outputs": [],
   "source": [
    "df = charts_df.merge(tracks_df, on='track_id', how='left')"
   ]
  },
  {
   "cell_type": "code",
   "execution_count": 6,
   "metadata": {
    "scrolled": true
   },
   "outputs": [
    {
     "data": {
      "text/html": [
       "<div>\n",
       "<style scoped>\n",
       "    .dataframe tbody tr th:only-of-type {\n",
       "        vertical-align: middle;\n",
       "    }\n",
       "\n",
       "    .dataframe tbody tr th {\n",
       "        vertical-align: top;\n",
       "    }\n",
       "\n",
       "    .dataframe thead th {\n",
       "        text-align: right;\n",
       "    }\n",
       "</style>\n",
       "<table border=\"1\" class=\"dataframe\">\n",
       "  <thead>\n",
       "    <tr style=\"text-align: right;\">\n",
       "      <th></th>\n",
       "      <th>date</th>\n",
       "      <th>position</th>\n",
       "      <th>track_id</th>\n",
       "      <th>track_name_x</th>\n",
       "      <th>artist</th>\n",
       "      <th>streams</th>\n",
       "      <th>track_name_y</th>\n",
       "      <th>artist_id</th>\n",
       "      <th>artist_name_x</th>\n",
       "      <th>album_id</th>\n",
       "      <th>...</th>\n",
       "      <th>speechiness</th>\n",
       "      <th>acousticness</th>\n",
       "      <th>instrumentalness</th>\n",
       "      <th>liveness</th>\n",
       "      <th>valence</th>\n",
       "      <th>tempo</th>\n",
       "      <th>artist_name_y</th>\n",
       "      <th>total_followers</th>\n",
       "      <th>genres</th>\n",
       "      <th>popularity_y</th>\n",
       "    </tr>\n",
       "  </thead>\n",
       "  <tbody>\n",
       "    <tr>\n",
       "      <th>0</th>\n",
       "      <td>2017-01-01</td>\n",
       "      <td>1</td>\n",
       "      <td>0kN8xEmgMW9mh7UmDYHlJP</td>\n",
       "      <td>Versace on the Floor</td>\n",
       "      <td>Bruno Mars</td>\n",
       "      <td>185236</td>\n",
       "      <td>Versace on the Floor</td>\n",
       "      <td>0du5cEVh5yTK9QJze8zA0C</td>\n",
       "      <td>Bruno Mars</td>\n",
       "      <td>4PgleR09JVnm3zY1fW3XBA</td>\n",
       "      <td>...</td>\n",
       "      <td>0.0454</td>\n",
       "      <td>0.196</td>\n",
       "      <td>0.00000</td>\n",
       "      <td>0.0830</td>\n",
       "      <td>0.301</td>\n",
       "      <td>174.152</td>\n",
       "      <td>Bruno Mars</td>\n",
       "      <td>28322108</td>\n",
       "      <td>['dance pop', 'pop']</td>\n",
       "      <td>88</td>\n",
       "    </tr>\n",
       "    <tr>\n",
       "      <th>1</th>\n",
       "      <td>2017-01-01</td>\n",
       "      <td>2</td>\n",
       "      <td>5uCax9HTNlzGybIStD3vDh</td>\n",
       "      <td>Say You Won't Let Go</td>\n",
       "      <td>James Arthur</td>\n",
       "      <td>180552</td>\n",
       "      <td>Say You Won't Let Go</td>\n",
       "      <td>4IWBUUAFIplrNtaOHcJPRM</td>\n",
       "      <td>James Arthur</td>\n",
       "      <td>7oiJYvEJHsmYtrgviAVIBD</td>\n",
       "      <td>...</td>\n",
       "      <td>0.0590</td>\n",
       "      <td>0.695</td>\n",
       "      <td>0.00000</td>\n",
       "      <td>0.0902</td>\n",
       "      <td>0.494</td>\n",
       "      <td>85.043</td>\n",
       "      <td>James Arthur</td>\n",
       "      <td>7279217</td>\n",
       "      <td>['pop', 'talent show', 'uk pop']</td>\n",
       "      <td>86</td>\n",
       "    </tr>\n",
       "    <tr>\n",
       "      <th>2</th>\n",
       "      <td>2017-01-01</td>\n",
       "      <td>3</td>\n",
       "      <td>7BKLCZ1jbUBVqRi2FVlTVw</td>\n",
       "      <td>Closer</td>\n",
       "      <td>The Chainsmokers</td>\n",
       "      <td>158720</td>\n",
       "      <td>Closer</td>\n",
       "      <td>69GGBxA162lTqCwzJG5jLp</td>\n",
       "      <td>The Chainsmokers</td>\n",
       "      <td>0rSLgV8p5FzfnqlEk4GzxE</td>\n",
       "      <td>...</td>\n",
       "      <td>0.0338</td>\n",
       "      <td>0.414</td>\n",
       "      <td>0.00000</td>\n",
       "      <td>0.1110</td>\n",
       "      <td>0.661</td>\n",
       "      <td>95.010</td>\n",
       "      <td>The Chainsmokers</td>\n",
       "      <td>17241689</td>\n",
       "      <td>['dance pop', 'edm', 'electropop', 'pop', 'pop...</td>\n",
       "      <td>85</td>\n",
       "    </tr>\n",
       "    <tr>\n",
       "      <th>3</th>\n",
       "      <td>2017-01-01</td>\n",
       "      <td>4</td>\n",
       "      <td>2rizacJSyD9S1IQUxUxnsK</td>\n",
       "      <td>All We Know</td>\n",
       "      <td>The Chainsmokers</td>\n",
       "      <td>130874</td>\n",
       "      <td>All We Know</td>\n",
       "      <td>69GGBxA162lTqCwzJG5jLp</td>\n",
       "      <td>The Chainsmokers</td>\n",
       "      <td>0xmaV6EtJ4M3ebZUPRnhyb</td>\n",
       "      <td>...</td>\n",
       "      <td>0.0307</td>\n",
       "      <td>0.097</td>\n",
       "      <td>0.00272</td>\n",
       "      <td>0.1150</td>\n",
       "      <td>0.296</td>\n",
       "      <td>90.000</td>\n",
       "      <td>The Chainsmokers</td>\n",
       "      <td>17241689</td>\n",
       "      <td>['dance pop', 'edm', 'electropop', 'pop', 'pop...</td>\n",
       "      <td>85</td>\n",
       "    </tr>\n",
       "    <tr>\n",
       "      <th>4</th>\n",
       "      <td>2017-01-01</td>\n",
       "      <td>5</td>\n",
       "      <td>5MFzQMkrl1FOOng9tq6R9r</td>\n",
       "      <td>Don't Wanna Know</td>\n",
       "      <td>Maroon 5</td>\n",
       "      <td>129656</td>\n",
       "      <td>Don't Wanna Know</td>\n",
       "      <td>04gDigrS5kc9YWfZHwBETP</td>\n",
       "      <td>Maroon 5</td>\n",
       "      <td>0fvTn3WXF39kQs9i3bnNpP</td>\n",
       "      <td>...</td>\n",
       "      <td>0.0800</td>\n",
       "      <td>0.338</td>\n",
       "      <td>0.00000</td>\n",
       "      <td>0.0975</td>\n",
       "      <td>0.447</td>\n",
       "      <td>100.048</td>\n",
       "      <td>Maroon 5</td>\n",
       "      <td>28845735</td>\n",
       "      <td>['pop', 'pop rock']</td>\n",
       "      <td>88</td>\n",
       "    </tr>\n",
       "  </tbody>\n",
       "</table>\n",
       "<p>5 rows × 28 columns</p>\n",
       "</div>"
      ],
      "text/plain": [
       "         date  position                track_id          track_name_x  \\\n",
       "0  2017-01-01         1  0kN8xEmgMW9mh7UmDYHlJP  Versace on the Floor   \n",
       "1  2017-01-01         2  5uCax9HTNlzGybIStD3vDh  Say You Won't Let Go   \n",
       "2  2017-01-01         3  7BKLCZ1jbUBVqRi2FVlTVw                Closer   \n",
       "3  2017-01-01         4  2rizacJSyD9S1IQUxUxnsK           All We Know   \n",
       "4  2017-01-01         5  5MFzQMkrl1FOOng9tq6R9r      Don't Wanna Know   \n",
       "\n",
       "             artist  streams          track_name_y               artist_id  \\\n",
       "0        Bruno Mars   185236  Versace on the Floor  0du5cEVh5yTK9QJze8zA0C   \n",
       "1      James Arthur   180552  Say You Won't Let Go  4IWBUUAFIplrNtaOHcJPRM   \n",
       "2  The Chainsmokers   158720                Closer  69GGBxA162lTqCwzJG5jLp   \n",
       "3  The Chainsmokers   130874           All We Know  69GGBxA162lTqCwzJG5jLp   \n",
       "4          Maroon 5   129656      Don't Wanna Know  04gDigrS5kc9YWfZHwBETP   \n",
       "\n",
       "      artist_name_x                album_id  ...  speechiness acousticness  \\\n",
       "0        Bruno Mars  4PgleR09JVnm3zY1fW3XBA  ...       0.0454        0.196   \n",
       "1      James Arthur  7oiJYvEJHsmYtrgviAVIBD  ...       0.0590        0.695   \n",
       "2  The Chainsmokers  0rSLgV8p5FzfnqlEk4GzxE  ...       0.0338        0.414   \n",
       "3  The Chainsmokers  0xmaV6EtJ4M3ebZUPRnhyb  ...       0.0307        0.097   \n",
       "4          Maroon 5  0fvTn3WXF39kQs9i3bnNpP  ...       0.0800        0.338   \n",
       "\n",
       "   instrumentalness  liveness  valence    tempo     artist_name_y  \\\n",
       "0           0.00000    0.0830    0.301  174.152        Bruno Mars   \n",
       "1           0.00000    0.0902    0.494   85.043      James Arthur   \n",
       "2           0.00000    0.1110    0.661   95.010  The Chainsmokers   \n",
       "3           0.00272    0.1150    0.296   90.000  The Chainsmokers   \n",
       "4           0.00000    0.0975    0.447  100.048          Maroon 5   \n",
       "\n",
       "   total_followers                                             genres  \\\n",
       "0         28322108                               ['dance pop', 'pop']   \n",
       "1          7279217                   ['pop', 'talent show', 'uk pop']   \n",
       "2         17241689  ['dance pop', 'edm', 'electropop', 'pop', 'pop...   \n",
       "3         17241689  ['dance pop', 'edm', 'electropop', 'pop', 'pop...   \n",
       "4         28845735                                ['pop', 'pop rock']   \n",
       "\n",
       "   popularity_y  \n",
       "0            88  \n",
       "1            86  \n",
       "2            85  \n",
       "3            85  \n",
       "4            88  \n",
       "\n",
       "[5 rows x 28 columns]"
      ]
     },
     "execution_count": 6,
     "metadata": {},
     "output_type": "execute_result"
    }
   ],
   "source": [
    "df_all = df.merge(artists_df, on='artist_id', how='left')\n",
    "df_all.head()"
   ]
  },
  {
   "cell_type": "code",
   "execution_count": 7,
   "metadata": {},
   "outputs": [],
   "source": [
    "df_all['duration_mins']=df_all['duration']/60000\n",
    "df_all['date'] = pd.to_datetime(df_all['date'])"
   ]
  },
  {
   "cell_type": "code",
   "execution_count": 8,
   "metadata": {
    "scrolled": true
   },
   "outputs": [
    {
     "data": {
      "text/plain": [
       "Index(['date', 'position', 'track_id', 'track_name_x', 'artist', 'streams',\n",
       "       'track_name_y', 'artist_id', 'artist_name_x', 'album_id', 'duration',\n",
       "       'release_date', 'popularity_x', 'danceability', 'energy', 'key',\n",
       "       'loudness', 'mode', 'speechiness', 'acousticness', 'instrumentalness',\n",
       "       'liveness', 'valence', 'tempo', 'artist_name_y', 'total_followers',\n",
       "       'genres', 'popularity_y', 'duration_mins'],\n",
       "      dtype='object')"
      ]
     },
     "execution_count": 8,
     "metadata": {},
     "output_type": "execute_result"
    }
   ],
   "source": [
    "df_all.columns"
   ]
  },
  {
   "cell_type": "markdown",
   "metadata": {},
   "source": [
    "Drop duplicate columns"
   ]
  },
  {
   "cell_type": "code",
   "execution_count": 9,
   "metadata": {},
   "outputs": [],
   "source": [
    "df_all.drop(['track_name_y','artist_name_y','popularity_y','artist_name_x'],axis=1,inplace=True)"
   ]
  },
  {
   "cell_type": "code",
   "execution_count": 10,
   "metadata": {},
   "outputs": [],
   "source": [
    "df_all = df_all.rename(columns={'track_name_x': 'track_name', 'popularity_x': 'popularity'})"
   ]
  },
  {
   "cell_type": "code",
   "execution_count": 11,
   "metadata": {
    "scrolled": false
   },
   "outputs": [
    {
     "name": "stdout",
     "output_type": "stream",
     "text": [
      "<class 'pandas.core.frame.DataFrame'>\n",
      "Int64Index: 294600 entries, 0 to 294599\n",
      "Data columns (total 25 columns):\n",
      " #   Column            Non-Null Count   Dtype         \n",
      "---  ------            --------------   -----         \n",
      " 0   date              294600 non-null  datetime64[ns]\n",
      " 1   position          294600 non-null  int64         \n",
      " 2   track_id          294600 non-null  object        \n",
      " 3   track_name        294590 non-null  object        \n",
      " 4   artist            294590 non-null  object        \n",
      " 5   streams           294600 non-null  int64         \n",
      " 6   artist_id         294600 non-null  object        \n",
      " 7   album_id          294600 non-null  object        \n",
      " 8   duration          294600 non-null  int64         \n",
      " 9   release_date      294600 non-null  object        \n",
      " 10  popularity        294600 non-null  int64         \n",
      " 11  danceability      294600 non-null  float64       \n",
      " 12  energy            294600 non-null  float64       \n",
      " 13  key               294600 non-null  int64         \n",
      " 14  loudness          294600 non-null  float64       \n",
      " 15  mode              294600 non-null  int64         \n",
      " 16  speechiness       294600 non-null  float64       \n",
      " 17  acousticness      294600 non-null  float64       \n",
      " 18  instrumentalness  294600 non-null  float64       \n",
      " 19  liveness          294600 non-null  float64       \n",
      " 20  valence           294600 non-null  float64       \n",
      " 21  tempo             294600 non-null  float64       \n",
      " 22  total_followers   294600 non-null  int64         \n",
      " 23  genres            294600 non-null  object        \n",
      " 24  duration_mins     294600 non-null  float64       \n",
      "dtypes: datetime64[ns](1), float64(10), int64(7), object(7)\n",
      "memory usage: 58.4+ MB\n"
     ]
    }
   ],
   "source": [
    "df_all.info()"
   ]
  },
  {
   "cell_type": "markdown",
   "metadata": {},
   "source": [
    "# EDA"
   ]
  },
  {
   "cell_type": "markdown",
   "metadata": {},
   "source": [
    "Filter dataset to 'k-pop girl group' genre"
   ]
  },
  {
   "cell_type": "code",
   "execution_count": 12,
   "metadata": {},
   "outputs": [],
   "source": [
    "df_kpopg = df_all[df_all['genres']==\"['k-pop', 'k-pop girl group']\"]"
   ]
  },
  {
   "cell_type": "code",
   "execution_count": 13,
   "metadata": {
    "scrolled": true
   },
   "outputs": [
    {
     "data": {
      "text/plain": [
       "array(['BLACKPINK', 'Red Velvet', \"Girls' Generation-TTS\", 'MOMOLAND',\n",
       "       'TWICE', \"Girls' Generation-Oh!GG\", 'IZ*ONE', 'ITZY', 'EVERGLOW',\n",
       "       'MAMAMOO', '(G)I-DLE', 'GFRIEND'], dtype=object)"
      ]
     },
     "execution_count": 13,
     "metadata": {},
     "output_type": "execute_result"
    }
   ],
   "source": [
    "df_kpopg['artist'].unique()"
   ]
  },
  {
   "cell_type": "code",
   "execution_count": 14,
   "metadata": {
    "scrolled": true
   },
   "outputs": [
    {
     "name": "stdout",
     "output_type": "stream",
     "text": [
      "<class 'pandas.core.frame.DataFrame'>\n",
      "Int64Index: 7605 entries, 33969 to 294585\n",
      "Data columns (total 25 columns):\n",
      " #   Column            Non-Null Count  Dtype         \n",
      "---  ------            --------------  -----         \n",
      " 0   date              7605 non-null   datetime64[ns]\n",
      " 1   position          7605 non-null   int64         \n",
      " 2   track_id          7605 non-null   object        \n",
      " 3   track_name        7605 non-null   object        \n",
      " 4   artist            7605 non-null   object        \n",
      " 5   streams           7605 non-null   int64         \n",
      " 6   artist_id         7605 non-null   object        \n",
      " 7   album_id          7605 non-null   object        \n",
      " 8   duration          7605 non-null   int64         \n",
      " 9   release_date      7605 non-null   object        \n",
      " 10  popularity        7605 non-null   int64         \n",
      " 11  danceability      7605 non-null   float64       \n",
      " 12  energy            7605 non-null   float64       \n",
      " 13  key               7605 non-null   int64         \n",
      " 14  loudness          7605 non-null   float64       \n",
      " 15  mode              7605 non-null   int64         \n",
      " 16  speechiness       7605 non-null   float64       \n",
      " 17  acousticness      7605 non-null   float64       \n",
      " 18  instrumentalness  7605 non-null   float64       \n",
      " 19  liveness          7605 non-null   float64       \n",
      " 20  valence           7605 non-null   float64       \n",
      " 21  tempo             7605 non-null   float64       \n",
      " 22  total_followers   7605 non-null   int64         \n",
      " 23  genres            7605 non-null   object        \n",
      " 24  duration_mins     7605 non-null   float64       \n",
      "dtypes: datetime64[ns](1), float64(10), int64(7), object(7)\n",
      "memory usage: 1.5+ MB\n"
     ]
    }
   ],
   "source": [
    "df_kpopg.info()"
   ]
  },
  {
   "cell_type": "code",
   "execution_count": 40,
   "metadata": {
    "scrolled": true
   },
   "outputs": [
    {
     "data": {
      "text/html": [
       "<div>\n",
       "<style scoped>\n",
       "    .dataframe tbody tr th:only-of-type {\n",
       "        vertical-align: middle;\n",
       "    }\n",
       "\n",
       "    .dataframe tbody tr th {\n",
       "        vertical-align: top;\n",
       "    }\n",
       "\n",
       "    .dataframe thead th {\n",
       "        text-align: right;\n",
       "    }\n",
       "</style>\n",
       "<table border=\"1\" class=\"dataframe\">\n",
       "  <thead>\n",
       "    <tr style=\"text-align: right;\">\n",
       "      <th></th>\n",
       "      <th>date</th>\n",
       "      <th>position</th>\n",
       "      <th>track_id</th>\n",
       "      <th>track_name</th>\n",
       "      <th>artist</th>\n",
       "      <th>streams</th>\n",
       "      <th>artist_id</th>\n",
       "      <th>album_id</th>\n",
       "      <th>duration</th>\n",
       "      <th>release_date</th>\n",
       "      <th>...</th>\n",
       "      <th>mode</th>\n",
       "      <th>speechiness</th>\n",
       "      <th>acousticness</th>\n",
       "      <th>instrumentalness</th>\n",
       "      <th>liveness</th>\n",
       "      <th>valence</th>\n",
       "      <th>tempo</th>\n",
       "      <th>total_followers</th>\n",
       "      <th>genres</th>\n",
       "      <th>duration_mins</th>\n",
       "    </tr>\n",
       "  </thead>\n",
       "  <tbody>\n",
       "    <tr>\n",
       "      <th>0</th>\n",
       "      <td>2017-06-22</td>\n",
       "      <td>170</td>\n",
       "      <td>7LJjWqhqK594nN7qJzLVXE</td>\n",
       "      <td>As If It's Your Last</td>\n",
       "      <td>BLACKPINK</td>\n",
       "      <td>20849</td>\n",
       "      <td>41MozSoPIsD1dJM0CLPjZF</td>\n",
       "      <td>3nvfNC0tnGcFXGHrJpqQ6m</td>\n",
       "      <td>213264</td>\n",
       "      <td>2017-06-22</td>\n",
       "      <td>...</td>\n",
       "      <td>1</td>\n",
       "      <td>0.0816</td>\n",
       "      <td>0.0688</td>\n",
       "      <td>0.0</td>\n",
       "      <td>0.0759</td>\n",
       "      <td>0.45</td>\n",
       "      <td>125.034</td>\n",
       "      <td>18224049</td>\n",
       "      <td>['k-pop', 'k-pop girl group']</td>\n",
       "      <td>3.5544</td>\n",
       "    </tr>\n",
       "    <tr>\n",
       "      <th>1</th>\n",
       "      <td>2017-06-23</td>\n",
       "      <td>61</td>\n",
       "      <td>7LJjWqhqK594nN7qJzLVXE</td>\n",
       "      <td>As If It's Your Last</td>\n",
       "      <td>BLACKPINK</td>\n",
       "      <td>44955</td>\n",
       "      <td>41MozSoPIsD1dJM0CLPjZF</td>\n",
       "      <td>3nvfNC0tnGcFXGHrJpqQ6m</td>\n",
       "      <td>213264</td>\n",
       "      <td>2017-06-22</td>\n",
       "      <td>...</td>\n",
       "      <td>1</td>\n",
       "      <td>0.0816</td>\n",
       "      <td>0.0688</td>\n",
       "      <td>0.0</td>\n",
       "      <td>0.0759</td>\n",
       "      <td>0.45</td>\n",
       "      <td>125.034</td>\n",
       "      <td>18224049</td>\n",
       "      <td>['k-pop', 'k-pop girl group']</td>\n",
       "      <td>3.5544</td>\n",
       "    </tr>\n",
       "    <tr>\n",
       "      <th>2</th>\n",
       "      <td>2017-06-24</td>\n",
       "      <td>58</td>\n",
       "      <td>7LJjWqhqK594nN7qJzLVXE</td>\n",
       "      <td>As If It's Your Last</td>\n",
       "      <td>BLACKPINK</td>\n",
       "      <td>46229</td>\n",
       "      <td>41MozSoPIsD1dJM0CLPjZF</td>\n",
       "      <td>3nvfNC0tnGcFXGHrJpqQ6m</td>\n",
       "      <td>213264</td>\n",
       "      <td>2017-06-22</td>\n",
       "      <td>...</td>\n",
       "      <td>1</td>\n",
       "      <td>0.0816</td>\n",
       "      <td>0.0688</td>\n",
       "      <td>0.0</td>\n",
       "      <td>0.0759</td>\n",
       "      <td>0.45</td>\n",
       "      <td>125.034</td>\n",
       "      <td>18224049</td>\n",
       "      <td>['k-pop', 'k-pop girl group']</td>\n",
       "      <td>3.5544</td>\n",
       "    </tr>\n",
       "    <tr>\n",
       "      <th>3</th>\n",
       "      <td>2017-06-25</td>\n",
       "      <td>53</td>\n",
       "      <td>7LJjWqhqK594nN7qJzLVXE</td>\n",
       "      <td>As If It's Your Last</td>\n",
       "      <td>BLACKPINK</td>\n",
       "      <td>45742</td>\n",
       "      <td>41MozSoPIsD1dJM0CLPjZF</td>\n",
       "      <td>3nvfNC0tnGcFXGHrJpqQ6m</td>\n",
       "      <td>213264</td>\n",
       "      <td>2017-06-22</td>\n",
       "      <td>...</td>\n",
       "      <td>1</td>\n",
       "      <td>0.0816</td>\n",
       "      <td>0.0688</td>\n",
       "      <td>0.0</td>\n",
       "      <td>0.0759</td>\n",
       "      <td>0.45</td>\n",
       "      <td>125.034</td>\n",
       "      <td>18224049</td>\n",
       "      <td>['k-pop', 'k-pop girl group']</td>\n",
       "      <td>3.5544</td>\n",
       "    </tr>\n",
       "    <tr>\n",
       "      <th>4</th>\n",
       "      <td>2017-06-26</td>\n",
       "      <td>53</td>\n",
       "      <td>7LJjWqhqK594nN7qJzLVXE</td>\n",
       "      <td>As If It's Your Last</td>\n",
       "      <td>BLACKPINK</td>\n",
       "      <td>49908</td>\n",
       "      <td>41MozSoPIsD1dJM0CLPjZF</td>\n",
       "      <td>3nvfNC0tnGcFXGHrJpqQ6m</td>\n",
       "      <td>213264</td>\n",
       "      <td>2017-06-22</td>\n",
       "      <td>...</td>\n",
       "      <td>1</td>\n",
       "      <td>0.0816</td>\n",
       "      <td>0.0688</td>\n",
       "      <td>0.0</td>\n",
       "      <td>0.0759</td>\n",
       "      <td>0.45</td>\n",
       "      <td>125.034</td>\n",
       "      <td>18224049</td>\n",
       "      <td>['k-pop', 'k-pop girl group']</td>\n",
       "      <td>3.5544</td>\n",
       "    </tr>\n",
       "  </tbody>\n",
       "</table>\n",
       "<p>5 rows × 25 columns</p>\n",
       "</div>"
      ],
      "text/plain": [
       "         date  position                track_id            track_name  \\\n",
       "0  2017-06-22       170  7LJjWqhqK594nN7qJzLVXE  As If It's Your Last   \n",
       "1  2017-06-23        61  7LJjWqhqK594nN7qJzLVXE  As If It's Your Last   \n",
       "2  2017-06-24        58  7LJjWqhqK594nN7qJzLVXE  As If It's Your Last   \n",
       "3  2017-06-25        53  7LJjWqhqK594nN7qJzLVXE  As If It's Your Last   \n",
       "4  2017-06-26        53  7LJjWqhqK594nN7qJzLVXE  As If It's Your Last   \n",
       "\n",
       "      artist  streams               artist_id                album_id  \\\n",
       "0  BLACKPINK    20849  41MozSoPIsD1dJM0CLPjZF  3nvfNC0tnGcFXGHrJpqQ6m   \n",
       "1  BLACKPINK    44955  41MozSoPIsD1dJM0CLPjZF  3nvfNC0tnGcFXGHrJpqQ6m   \n",
       "2  BLACKPINK    46229  41MozSoPIsD1dJM0CLPjZF  3nvfNC0tnGcFXGHrJpqQ6m   \n",
       "3  BLACKPINK    45742  41MozSoPIsD1dJM0CLPjZF  3nvfNC0tnGcFXGHrJpqQ6m   \n",
       "4  BLACKPINK    49908  41MozSoPIsD1dJM0CLPjZF  3nvfNC0tnGcFXGHrJpqQ6m   \n",
       "\n",
       "   duration release_date  ...  mode  speechiness  acousticness  \\\n",
       "0    213264   2017-06-22  ...     1       0.0816        0.0688   \n",
       "1    213264   2017-06-22  ...     1       0.0816        0.0688   \n",
       "2    213264   2017-06-22  ...     1       0.0816        0.0688   \n",
       "3    213264   2017-06-22  ...     1       0.0816        0.0688   \n",
       "4    213264   2017-06-22  ...     1       0.0816        0.0688   \n",
       "\n",
       "   instrumentalness  liveness  valence    tempo  total_followers  \\\n",
       "0               0.0    0.0759     0.45  125.034         18224049   \n",
       "1               0.0    0.0759     0.45  125.034         18224049   \n",
       "2               0.0    0.0759     0.45  125.034         18224049   \n",
       "3               0.0    0.0759     0.45  125.034         18224049   \n",
       "4               0.0    0.0759     0.45  125.034         18224049   \n",
       "\n",
       "                          genres  duration_mins  \n",
       "0  ['k-pop', 'k-pop girl group']         3.5544  \n",
       "1  ['k-pop', 'k-pop girl group']         3.5544  \n",
       "2  ['k-pop', 'k-pop girl group']         3.5544  \n",
       "3  ['k-pop', 'k-pop girl group']         3.5544  \n",
       "4  ['k-pop', 'k-pop girl group']         3.5544  \n",
       "\n",
       "[5 rows x 25 columns]"
      ]
     },
     "execution_count": 40,
     "metadata": {},
     "output_type": "execute_result"
    }
   ],
   "source": [
    "df_kpopg.head()"
   ]
  },
  {
   "cell_type": "markdown",
   "metadata": {},
   "source": [
    "Check top streamed k-pop girl group"
   ]
  },
  {
   "cell_type": "code",
   "execution_count": 20,
   "metadata": {
    "scrolled": true
   },
   "outputs": [],
   "source": [
    "top5 = df_kpopg.groupby('artist')[['streams']].sum().sort_values(by=\"streams\", ascending=False).head(5)"
   ]
  },
  {
   "cell_type": "code",
   "execution_count": 21,
   "metadata": {},
   "outputs": [
    {
     "data": {
      "text/html": [
       "<div>\n",
       "<style scoped>\n",
       "    .dataframe tbody tr th:only-of-type {\n",
       "        vertical-align: middle;\n",
       "    }\n",
       "\n",
       "    .dataframe tbody tr th {\n",
       "        vertical-align: top;\n",
       "    }\n",
       "\n",
       "    .dataframe thead th {\n",
       "        text-align: right;\n",
       "    }\n",
       "</style>\n",
       "<table border=\"1\" class=\"dataframe\">\n",
       "  <thead>\n",
       "    <tr style=\"text-align: right;\">\n",
       "      <th></th>\n",
       "      <th>streams</th>\n",
       "    </tr>\n",
       "    <tr>\n",
       "      <th>artist</th>\n",
       "      <th></th>\n",
       "    </tr>\n",
       "  </thead>\n",
       "  <tbody>\n",
       "    <tr>\n",
       "      <th>BLACKPINK</th>\n",
       "      <td>253291272</td>\n",
       "    </tr>\n",
       "    <tr>\n",
       "      <th>TWICE</th>\n",
       "      <td>82087777</td>\n",
       "    </tr>\n",
       "    <tr>\n",
       "      <th>MOMOLAND</th>\n",
       "      <td>33615507</td>\n",
       "    </tr>\n",
       "    <tr>\n",
       "      <th>Red Velvet</th>\n",
       "      <td>25076051</td>\n",
       "    </tr>\n",
       "    <tr>\n",
       "      <th>ITZY</th>\n",
       "      <td>22997615</td>\n",
       "    </tr>\n",
       "  </tbody>\n",
       "</table>\n",
       "</div>"
      ],
      "text/plain": [
       "              streams\n",
       "artist               \n",
       "BLACKPINK   253291272\n",
       "TWICE        82087777\n",
       "MOMOLAND     33615507\n",
       "Red Velvet   25076051\n",
       "ITZY         22997615"
      ]
     },
     "execution_count": 21,
     "metadata": {},
     "output_type": "execute_result"
    }
   ],
   "source": [
    "top5"
   ]
  },
  {
   "cell_type": "code",
   "execution_count": 49,
   "metadata": {
    "scrolled": true
   },
   "outputs": [
    {
     "data": {
      "image/png": "[encoded data removed]",
      "text/plain": [
       "<Figure size 864x504 with 1 Axes>"
      ]
     },
     "metadata": {},
     "output_type": "display_data"
    }
   ],
   "source": [
    "### mycolors = [\"#b88f89\", \"#b88f89\",\"#b88f89\", \"#b88f89\", \"#77a9b4\"]\n",
    "sns.set_palette(sns.color_palette(mycolors))\n",
    "sns.set_style(\"whitegrid\")\n",
    "\n",
    "plt.figure(figsize=(12, 7))\n",
    "fig = sns.barplot(x=top5.index, y=top5.streams, data=top5)\n",
    "fig.set_title('Top 5 Most Streamed K-Pop Girl Groups (Streams for Charting Songs)', fontsize=17,y=1.02,fontweight='bold')\n",
    "plt.ylabel(\"Streams\",fontsize=16, labelpad=20)\n",
    "plt.xlabel(\"K-Pop Girl Group\",fontsize=16, labelpad=20)\n",
    "plt.ticklabel_format(axis='y', style='plain')\n",
    "plt.rcParams['xtick.labelsize']=13\n",
    "plt.rcParams['ytick.labelsize']=13\n",
    "plt.ylim([0,300000000])\n",
    "plt.savefig('top5_kpopgirlgroup.png', bbox_inches='tight')"
   ]
  },
  {
   "cell_type": "code",
   "execution_count": null,
   "metadata": {},
   "outputs": [],
   "source": []
  },
  {
   "cell_type": "code",
   "execution_count": 50,
   "metadata": {},
   "outputs": [],
   "source": [
    "top4 = df_kpopg[(df_kpopg['artist']==\"Red Velvet\") | (df_kpopg['artist']==\"MOMOLAND\") | (df_kpopg['artist']==\"TWICE\") | (df_kpopg['artist']==\"BLACKPINK\")]"
   ]
  },
  {
   "cell_type": "code",
   "execution_count": 51,
   "metadata": {
    "scrolled": false
   },
   "outputs": [
    {
     "name": "stderr",
     "output_type": "stream",
     "text": [
      "<ipython-input-51-e52ba965cd00>:1: SettingWithCopyWarning: \n",
      "A value is trying to be set on a copy of a slice from a DataFrame.\n",
      "Try using .loc[row_indexer,col_indexer] = value instead\n",
      "\n",
      "See the caveats in the documentation: https://pandas.pydata.org/pandas-docs/stable/user_guide/indexing.html#returning-a-view-versus-a-copy\n",
      "  top4['release_date'] = pd.to_datetime(top4['release_date'])\n"
     ]
    }
   ],
   "source": [
    "top4['release_date'] = pd.to_datetime(top4['release_date'])"
   ]
  },
  {
   "cell_type": "code",
   "execution_count": 27,
   "metadata": {},
   "outputs": [],
   "source": [
    "bp = df_kpopg[df_kpopg['artist']==\"BLACKPINK\"]\n",
    "\n",
    "bp = bp['album_id'].unique().tolist()"
   ]
  },
  {
   "cell_type": "code",
   "execution_count": 28,
   "metadata": {},
   "outputs": [
    {
     "data": {
      "text/plain": [
       "['3nvfNC0tnGcFXGHrJpqQ6m',\n",
       " '6IzQb2kLydYNfzmKXvmndX',\n",
       " '1HwIUaaEuRsxsIyssqtGLH',\n",
       " '3KacwE6ax8jp1vun6DQ1Jf',\n",
       " '4l87mak80qeOiZwXM5bRuM',\n",
       " '2zwfcNqJe7IT1RwgVyv1ug',\n",
       " '71QEBJY33oG0l5rqs2kR1c',\n",
       " '3ToMjZ40PPqL5NV83xOoOM',\n",
       " '4xVAKfdoqtrlwl9m7REmdL',\n",
       " '7viSsSKXrDa95CtUcuc1Iv',\n",
       " '1AkGUEtocePYti6xefsECx',\n",
       " '19LMUlWN7xU2NW80pZSeuH',\n",
       " '2VBb4LRcRSACOfJWRUgVZl',\n",
       " '71O60S5gIJSIAhdnrDIh3N',\n",
       " '7ikmjsvRzDRzxHN0KXSQdv']"
      ]
     },
     "execution_count": 28,
     "metadata": {},
     "output_type": "execute_result"
    }
   ],
   "source": [
    "bp"
   ]
  },
  {
   "cell_type": "code",
   "execution_count": 53,
   "metadata": {},
   "outputs": [],
   "source": [
    "#Remove duplicates\n",
    "top_album = top4.drop_duplicates(subset = [\"album_id\"])"
   ]
  },
  {
   "cell_type": "code",
   "execution_count": 54,
   "metadata": {
    "scrolled": true
   },
   "outputs": [
    {
     "data": {
      "text/plain": [
       "TWICE         17\n",
       "BLACKPINK     15\n",
       "Red Velvet     8\n",
       "MOMOLAND       3\n",
       "Name: artist, dtype: int64"
      ]
     },
     "execution_count": 54,
     "metadata": {},
     "output_type": "execute_result"
    }
   ],
   "source": [
    "top_album['artist'].value_counts()"
   ]
  },
  {
   "cell_type": "code",
   "execution_count": 55,
   "metadata": {},
   "outputs": [],
   "source": [
    "release = top_album.groupby([\"release_date\",\"artist\"])[\"album_id\"].size().to_frame().reset_index().set_index(\"release_date\")"
   ]
  },
  {
   "cell_type": "code",
   "execution_count": 57,
   "metadata": {
    "scrolled": false
   },
   "outputs": [
    {
     "data": {
      "text/html": [
       "<div>\n",
       "<style scoped>\n",
       "    .dataframe tbody tr th:only-of-type {\n",
       "        vertical-align: middle;\n",
       "    }\n",
       "\n",
       "    .dataframe tbody tr th {\n",
       "        vertical-align: top;\n",
       "    }\n",
       "\n",
       "    .dataframe thead th {\n",
       "        text-align: right;\n",
       "    }\n",
       "</style>\n",
       "<table border=\"1\" class=\"dataframe\">\n",
       "  <thead>\n",
       "    <tr style=\"text-align: right;\">\n",
       "      <th></th>\n",
       "      <th>artist</th>\n",
       "      <th>album_id</th>\n",
       "    </tr>\n",
       "    <tr>\n",
       "      <th>release_date</th>\n",
       "      <th></th>\n",
       "      <th></th>\n",
       "    </tr>\n",
       "  </thead>\n",
       "  <tbody>\n",
       "    <tr>\n",
       "      <th>2017-06-22</th>\n",
       "      <td>BLACKPINK</td>\n",
       "      <td>3</td>\n",
       "    </tr>\n",
       "    <tr>\n",
       "      <th>2017-07-20</th>\n",
       "      <td>BLACKPINK</td>\n",
       "      <td>2</td>\n",
       "    </tr>\n",
       "    <tr>\n",
       "      <th>2018-06-15</th>\n",
       "      <td>BLACKPINK</td>\n",
       "      <td>3</td>\n",
       "    </tr>\n",
       "    <tr>\n",
       "      <th>2019-04-04</th>\n",
       "      <td>BLACKPINK</td>\n",
       "      <td>2</td>\n",
       "    </tr>\n",
       "    <tr>\n",
       "      <th>2019-04-05</th>\n",
       "      <td>BLACKPINK</td>\n",
       "      <td>1</td>\n",
       "    </tr>\n",
       "    <tr>\n",
       "      <th>2020-06-26</th>\n",
       "      <td>BLACKPINK</td>\n",
       "      <td>2</td>\n",
       "    </tr>\n",
       "    <tr>\n",
       "      <th>2020-08-28</th>\n",
       "      <td>BLACKPINK</td>\n",
       "      <td>1</td>\n",
       "    </tr>\n",
       "    <tr>\n",
       "      <th>2020-10-02</th>\n",
       "      <td>BLACKPINK</td>\n",
       "      <td>1</td>\n",
       "    </tr>\n",
       "  </tbody>\n",
       "</table>\n",
       "</div>"
      ],
      "text/plain": [
       "                 artist  album_id\n",
       "release_date                     \n",
       "2017-06-22    BLACKPINK         3\n",
       "2017-07-20    BLACKPINK         2\n",
       "2018-06-15    BLACKPINK         3\n",
       "2019-04-04    BLACKPINK         2\n",
       "2019-04-05    BLACKPINK         1\n",
       "2020-06-26    BLACKPINK         2\n",
       "2020-08-28    BLACKPINK         1\n",
       "2020-10-02    BLACKPINK         1"
      ]
     },
     "execution_count": 57,
     "metadata": {},
     "output_type": "execute_result"
    }
   ],
   "source": [
    "release[release[\"artist\"]==\"BLACKPINK\"]"
   ]
  },
  {
   "cell_type": "code",
   "execution_count": 60,
   "metadata": {
    "scrolled": true
   },
   "outputs": [
    {
     "data": {
      "text/html": [
       "<div>\n",
       "<style scoped>\n",
       "    .dataframe tbody tr th:only-of-type {\n",
       "        vertical-align: middle;\n",
       "    }\n",
       "\n",
       "    .dataframe tbody tr th {\n",
       "        vertical-align: top;\n",
       "    }\n",
       "\n",
       "    .dataframe thead th {\n",
       "        text-align: right;\n",
       "    }\n",
       "</style>\n",
       "<table border=\"1\" class=\"dataframe\">\n",
       "  <thead>\n",
       "    <tr style=\"text-align: right;\">\n",
       "      <th></th>\n",
       "      <th>artist</th>\n",
       "      <th>album_id</th>\n",
       "    </tr>\n",
       "    <tr>\n",
       "      <th>release_date</th>\n",
       "      <th></th>\n",
       "      <th></th>\n",
       "    </tr>\n",
       "  </thead>\n",
       "  <tbody>\n",
       "    <tr>\n",
       "      <th>2018-04-09</th>\n",
       "      <td>TWICE</td>\n",
       "      <td>1</td>\n",
       "    </tr>\n",
       "    <tr>\n",
       "      <th>2018-07-09</th>\n",
       "      <td>TWICE</td>\n",
       "      <td>2</td>\n",
       "    </tr>\n",
       "    <tr>\n",
       "      <th>2018-11-05</th>\n",
       "      <td>TWICE</td>\n",
       "      <td>1</td>\n",
       "    </tr>\n",
       "    <tr>\n",
       "      <th>2019-04-22</th>\n",
       "      <td>TWICE</td>\n",
       "      <td>2</td>\n",
       "    </tr>\n",
       "    <tr>\n",
       "      <th>2019-09-23</th>\n",
       "      <td>TWICE</td>\n",
       "      <td>2</td>\n",
       "    </tr>\n",
       "    <tr>\n",
       "      <th>2020-06-01</th>\n",
       "      <td>TWICE</td>\n",
       "      <td>2</td>\n",
       "    </tr>\n",
       "    <tr>\n",
       "      <th>2020-08-21</th>\n",
       "      <td>TWICE</td>\n",
       "      <td>2</td>\n",
       "    </tr>\n",
       "    <tr>\n",
       "      <th>2020-10-26</th>\n",
       "      <td>TWICE</td>\n",
       "      <td>2</td>\n",
       "    </tr>\n",
       "    <tr>\n",
       "      <th>2020-11-30</th>\n",
       "      <td>TWICE</td>\n",
       "      <td>1</td>\n",
       "    </tr>\n",
       "    <tr>\n",
       "      <th>2020-12-18</th>\n",
       "      <td>TWICE</td>\n",
       "      <td>2</td>\n",
       "    </tr>\n",
       "  </tbody>\n",
       "</table>\n",
       "</div>"
      ],
      "text/plain": [
       "             artist  album_id\n",
       "release_date                 \n",
       "2018-04-09    TWICE         1\n",
       "2018-07-09    TWICE         2\n",
       "2018-11-05    TWICE         1\n",
       "2019-04-22    TWICE         2\n",
       "2019-09-23    TWICE         2\n",
       "2020-06-01    TWICE         2\n",
       "2020-08-21    TWICE         2\n",
       "2020-10-26    TWICE         2\n",
       "2020-11-30    TWICE         1\n",
       "2020-12-18    TWICE         2"
      ]
     },
     "execution_count": 60,
     "metadata": {},
     "output_type": "execute_result"
    }
   ],
   "source": [
    "release[release[\"artist\"]==\"TWICE\"]"
   ]
  },
  {
   "cell_type": "code",
   "execution_count": 61,
   "metadata": {
    "scrolled": true
   },
   "outputs": [
    {
     "data": {
      "text/html": [
       "<div>\n",
       "<style scoped>\n",
       "    .dataframe tbody tr th:only-of-type {\n",
       "        vertical-align: middle;\n",
       "    }\n",
       "\n",
       "    .dataframe tbody tr th {\n",
       "        vertical-align: top;\n",
       "    }\n",
       "\n",
       "    .dataframe thead th {\n",
       "        text-align: right;\n",
       "    }\n",
       "</style>\n",
       "<table border=\"1\" class=\"dataframe\">\n",
       "  <thead>\n",
       "    <tr style=\"text-align: right;\">\n",
       "      <th></th>\n",
       "      <th>artist</th>\n",
       "      <th>album_id</th>\n",
       "    </tr>\n",
       "    <tr>\n",
       "      <th>release_date</th>\n",
       "      <th></th>\n",
       "      <th></th>\n",
       "    </tr>\n",
       "  </thead>\n",
       "  <tbody>\n",
       "    <tr>\n",
       "      <th>2017-11-17</th>\n",
       "      <td>Red Velvet</td>\n",
       "      <td>1</td>\n",
       "    </tr>\n",
       "    <tr>\n",
       "      <th>2018-01-29</th>\n",
       "      <td>Red Velvet</td>\n",
       "      <td>1</td>\n",
       "    </tr>\n",
       "    <tr>\n",
       "      <th>2018-08-06</th>\n",
       "      <td>Red Velvet</td>\n",
       "      <td>1</td>\n",
       "    </tr>\n",
       "    <tr>\n",
       "      <th>2018-11-30</th>\n",
       "      <td>Red Velvet</td>\n",
       "      <td>1</td>\n",
       "    </tr>\n",
       "    <tr>\n",
       "      <th>2019-06-19</th>\n",
       "      <td>Red Velvet</td>\n",
       "      <td>1</td>\n",
       "    </tr>\n",
       "    <tr>\n",
       "      <th>2019-08-20</th>\n",
       "      <td>Red Velvet</td>\n",
       "      <td>1</td>\n",
       "    </tr>\n",
       "    <tr>\n",
       "      <th>2019-12-23</th>\n",
       "      <td>Red Velvet</td>\n",
       "      <td>1</td>\n",
       "    </tr>\n",
       "    <tr>\n",
       "      <th>2020-10-17</th>\n",
       "      <td>Red Velvet</td>\n",
       "      <td>1</td>\n",
       "    </tr>\n",
       "  </tbody>\n",
       "</table>\n",
       "</div>"
      ],
      "text/plain": [
       "                  artist  album_id\n",
       "release_date                      \n",
       "2017-11-17    Red Velvet         1\n",
       "2018-01-29    Red Velvet         1\n",
       "2018-08-06    Red Velvet         1\n",
       "2018-11-30    Red Velvet         1\n",
       "2019-06-19    Red Velvet         1\n",
       "2019-08-20    Red Velvet         1\n",
       "2019-12-23    Red Velvet         1\n",
       "2020-10-17    Red Velvet         1"
      ]
     },
     "execution_count": 61,
     "metadata": {},
     "output_type": "execute_result"
    }
   ],
   "source": [
    "release[release[\"artist\"]==\"Red Velvet\"]"
   ]
  },
  {
   "cell_type": "code",
   "execution_count": 62,
   "metadata": {
    "scrolled": true
   },
   "outputs": [
    {
     "data": {
      "text/html": [
       "<div>\n",
       "<style scoped>\n",
       "    .dataframe tbody tr th:only-of-type {\n",
       "        vertical-align: middle;\n",
       "    }\n",
       "\n",
       "    .dataframe tbody tr th {\n",
       "        vertical-align: top;\n",
       "    }\n",
       "\n",
       "    .dataframe thead th {\n",
       "        text-align: right;\n",
       "    }\n",
       "</style>\n",
       "<table border=\"1\" class=\"dataframe\">\n",
       "  <thead>\n",
       "    <tr style=\"text-align: right;\">\n",
       "      <th></th>\n",
       "      <th>artist</th>\n",
       "      <th>album_id</th>\n",
       "    </tr>\n",
       "    <tr>\n",
       "      <th>release_date</th>\n",
       "      <th></th>\n",
       "      <th></th>\n",
       "    </tr>\n",
       "  </thead>\n",
       "  <tbody>\n",
       "    <tr>\n",
       "      <th>2018-01-03</th>\n",
       "      <td>MOMOLAND</td>\n",
       "      <td>1</td>\n",
       "    </tr>\n",
       "    <tr>\n",
       "      <th>2018-02-14</th>\n",
       "      <td>MOMOLAND</td>\n",
       "      <td>1</td>\n",
       "    </tr>\n",
       "    <tr>\n",
       "      <th>2018-06-26</th>\n",
       "      <td>MOMOLAND</td>\n",
       "      <td>1</td>\n",
       "    </tr>\n",
       "  </tbody>\n",
       "</table>\n",
       "</div>"
      ],
      "text/plain": [
       "                artist  album_id\n",
       "release_date                    \n",
       "2018-01-03    MOMOLAND         1\n",
       "2018-02-14    MOMOLAND         1\n",
       "2018-06-26    MOMOLAND         1"
      ]
     },
     "execution_count": 62,
     "metadata": {},
     "output_type": "execute_result"
    }
   ],
   "source": [
    "release[release[\"artist\"]==\"MOMOLAND\"]"
   ]
  },
  {
   "cell_type": "markdown",
   "metadata": {},
   "source": [
    "# STL of streams for the K-Pop Girl Group genre"
   ]
  },
  {
   "cell_type": "code",
   "execution_count": 25,
   "metadata": {},
   "outputs": [],
   "source": [
    "import statsmodels.api as sm"
   ]
  },
  {
   "cell_type": "code",
   "execution_count": 15,
   "metadata": {},
   "outputs": [],
   "source": [
    "#get all dates\n",
    "data1 = pd.DataFrame({'date':pd.unique(df_kpopg['date'])}).set_index('date').asfreq('d')"
   ]
  },
  {
   "cell_type": "code",
   "execution_count": 16,
   "metadata": {},
   "outputs": [
    {
     "data": {
      "text/html": [
       "<div>\n",
       "<style scoped>\n",
       "    .dataframe tbody tr th:only-of-type {\n",
       "        vertical-align: middle;\n",
       "    }\n",
       "\n",
       "    .dataframe tbody tr th {\n",
       "        vertical-align: top;\n",
       "    }\n",
       "\n",
       "    .dataframe thead th {\n",
       "        text-align: right;\n",
       "    }\n",
       "</style>\n",
       "<table border=\"1\" class=\"dataframe\">\n",
       "  <thead>\n",
       "    <tr style=\"text-align: right;\">\n",
       "      <th></th>\n",
       "    </tr>\n",
       "    <tr>\n",
       "      <th>date</th>\n",
       "    </tr>\n",
       "  </thead>\n",
       "  <tbody>\n",
       "    <tr>\n",
       "      <th>2017-06-22</th>\n",
       "    </tr>\n",
       "    <tr>\n",
       "      <th>2017-06-23</th>\n",
       "    </tr>\n",
       "    <tr>\n",
       "      <th>2017-06-24</th>\n",
       "    </tr>\n",
       "    <tr>\n",
       "      <th>2017-06-25</th>\n",
       "    </tr>\n",
       "    <tr>\n",
       "      <th>2017-06-26</th>\n",
       "    </tr>\n",
       "  </tbody>\n",
       "</table>\n",
       "</div>"
      ],
      "text/plain": [
       "Empty DataFrame\n",
       "Columns: []\n",
       "Index: [2017-06-22 00:00:00, 2017-06-23 00:00:00, 2017-06-24 00:00:00, 2017-06-25 00:00:00, 2017-06-26 00:00:00]"
      ]
     },
     "execution_count": 16,
     "metadata": {},
     "output_type": "execute_result"
    }
   ],
   "source": [
    "data1.head()"
   ]
  },
  {
   "cell_type": "code",
   "execution_count": 17,
   "metadata": {},
   "outputs": [],
   "source": [
    "#get total streams of all charting kpop girl group songs per month\n",
    "kpop_streams = df_kpopg.groupby('date')[['streams']].sum()"
   ]
  },
  {
   "cell_type": "code",
   "execution_count": 18,
   "metadata": {},
   "outputs": [
    {
     "data": {
      "text/html": [
       "<div>\n",
       "<style scoped>\n",
       "    .dataframe tbody tr th:only-of-type {\n",
       "        vertical-align: middle;\n",
       "    }\n",
       "\n",
       "    .dataframe tbody tr th {\n",
       "        vertical-align: top;\n",
       "    }\n",
       "\n",
       "    .dataframe thead th {\n",
       "        text-align: right;\n",
       "    }\n",
       "</style>\n",
       "<table border=\"1\" class=\"dataframe\">\n",
       "  <thead>\n",
       "    <tr style=\"text-align: right;\">\n",
       "      <th></th>\n",
       "      <th>streams</th>\n",
       "    </tr>\n",
       "    <tr>\n",
       "      <th>date</th>\n",
       "      <th></th>\n",
       "    </tr>\n",
       "  </thead>\n",
       "  <tbody>\n",
       "    <tr>\n",
       "      <th>2017-06-22</th>\n",
       "      <td>20849</td>\n",
       "    </tr>\n",
       "    <tr>\n",
       "      <th>2017-06-23</th>\n",
       "      <td>44955</td>\n",
       "    </tr>\n",
       "    <tr>\n",
       "      <th>2017-06-24</th>\n",
       "      <td>46229</td>\n",
       "    </tr>\n",
       "    <tr>\n",
       "      <th>2017-06-25</th>\n",
       "      <td>45742</td>\n",
       "    </tr>\n",
       "    <tr>\n",
       "      <th>2017-06-26</th>\n",
       "      <td>49908</td>\n",
       "    </tr>\n",
       "  </tbody>\n",
       "</table>\n",
       "</div>"
      ],
      "text/plain": [
       "            streams\n",
       "date               \n",
       "2017-06-22    20849\n",
       "2017-06-23    44955\n",
       "2017-06-24    46229\n",
       "2017-06-25    45742\n",
       "2017-06-26    49908"
      ]
     },
     "execution_count": 18,
     "metadata": {},
     "output_type": "execute_result"
    }
   ],
   "source": [
    "kpop_streams.head()"
   ]
  },
  {
   "cell_type": "code",
   "execution_count": 19,
   "metadata": {},
   "outputs": [],
   "source": [
    "#merge with complete dates\n",
    "data1['streams']=kpop_streams"
   ]
  },
  {
   "cell_type": "code",
   "execution_count": 20,
   "metadata": {},
   "outputs": [
    {
     "data": {
      "text/html": [
       "<div>\n",
       "<style scoped>\n",
       "    .dataframe tbody tr th:only-of-type {\n",
       "        vertical-align: middle;\n",
       "    }\n",
       "\n",
       "    .dataframe tbody tr th {\n",
       "        vertical-align: top;\n",
       "    }\n",
       "\n",
       "    .dataframe thead th {\n",
       "        text-align: right;\n",
       "    }\n",
       "</style>\n",
       "<table border=\"1\" class=\"dataframe\">\n",
       "  <thead>\n",
       "    <tr style=\"text-align: right;\">\n",
       "      <th></th>\n",
       "      <th>streams</th>\n",
       "    </tr>\n",
       "    <tr>\n",
       "      <th>date</th>\n",
       "      <th></th>\n",
       "    </tr>\n",
       "  </thead>\n",
       "  <tbody>\n",
       "    <tr>\n",
       "      <th>2017-06-22</th>\n",
       "      <td>20849.0</td>\n",
       "    </tr>\n",
       "    <tr>\n",
       "      <th>2017-06-23</th>\n",
       "      <td>44955.0</td>\n",
       "    </tr>\n",
       "    <tr>\n",
       "      <th>2017-06-24</th>\n",
       "      <td>46229.0</td>\n",
       "    </tr>\n",
       "    <tr>\n",
       "      <th>2017-06-25</th>\n",
       "      <td>45742.0</td>\n",
       "    </tr>\n",
       "    <tr>\n",
       "      <th>2017-06-26</th>\n",
       "      <td>49908.0</td>\n",
       "    </tr>\n",
       "  </tbody>\n",
       "</table>\n",
       "</div>"
      ],
      "text/plain": [
       "            streams\n",
       "date               \n",
       "2017-06-22  20849.0\n",
       "2017-06-23  44955.0\n",
       "2017-06-24  46229.0\n",
       "2017-06-25  45742.0\n",
       "2017-06-26  49908.0"
      ]
     },
     "execution_count": 20,
     "metadata": {},
     "output_type": "execute_result"
    }
   ],
   "source": [
    "data1.head()"
   ]
  },
  {
   "cell_type": "code",
   "execution_count": 21,
   "metadata": {},
   "outputs": [],
   "source": [
    "#fill days with no streams with 0\n",
    "data1['streams']=data1['streams'].fillna(0)"
   ]
  },
  {
   "cell_type": "code",
   "execution_count": 22,
   "metadata": {},
   "outputs": [
    {
     "data": {
      "text/html": [
       "<div>\n",
       "<style scoped>\n",
       "    .dataframe tbody tr th:only-of-type {\n",
       "        vertical-align: middle;\n",
       "    }\n",
       "\n",
       "    .dataframe tbody tr th {\n",
       "        vertical-align: top;\n",
       "    }\n",
       "\n",
       "    .dataframe thead th {\n",
       "        text-align: right;\n",
       "    }\n",
       "</style>\n",
       "<table border=\"1\" class=\"dataframe\">\n",
       "  <thead>\n",
       "    <tr style=\"text-align: right;\">\n",
       "      <th></th>\n",
       "      <th>streams</th>\n",
       "    </tr>\n",
       "    <tr>\n",
       "      <th>date</th>\n",
       "      <th></th>\n",
       "    </tr>\n",
       "  </thead>\n",
       "  <tbody>\n",
       "    <tr>\n",
       "      <th>2017-06-22</th>\n",
       "      <td>20849.0</td>\n",
       "    </tr>\n",
       "    <tr>\n",
       "      <th>2017-06-23</th>\n",
       "      <td>44955.0</td>\n",
       "    </tr>\n",
       "    <tr>\n",
       "      <th>2017-06-24</th>\n",
       "      <td>46229.0</td>\n",
       "    </tr>\n",
       "    <tr>\n",
       "      <th>2017-06-25</th>\n",
       "      <td>45742.0</td>\n",
       "    </tr>\n",
       "    <tr>\n",
       "      <th>2017-06-26</th>\n",
       "      <td>49908.0</td>\n",
       "    </tr>\n",
       "  </tbody>\n",
       "</table>\n",
       "</div>"
      ],
      "text/plain": [
       "            streams\n",
       "date               \n",
       "2017-06-22  20849.0\n",
       "2017-06-23  44955.0\n",
       "2017-06-24  46229.0\n",
       "2017-06-25  45742.0\n",
       "2017-06-26  49908.0"
      ]
     },
     "execution_count": 22,
     "metadata": {},
     "output_type": "execute_result"
    }
   ],
   "source": [
    "data1.head()"
   ]
  },
  {
   "cell_type": "code",
   "execution_count": 23,
   "metadata": {
    "scrolled": true
   },
   "outputs": [
    {
     "data": {
      "text/plain": [
       "<AxesSubplot:xlabel='date'>"
      ]
     },
     "execution_count": 23,
     "metadata": {},
     "output_type": "execute_result"
    },
    {
     "data": {
      "image/png": "[encoded data removed]",
      "text/plain": [
       "<Figure size 432x288 with 1 Axes>"
      ]
     },
     "metadata": {
      "needs_background": "light"
     },
     "output_type": "display_data"
    }
   ],
   "source": [
    "data1.plot()"
   ]
  },
  {
   "cell_type": "code",
   "execution_count": 35,
   "metadata": {},
   "outputs": [
    {
     "ename": "AttributeError",
     "evalue": "'DecomposeResult' object has no attribute 'tight_layout'",
     "output_type": "error",
     "traceback": [
      "\u001b[0;31m---------------------------------------------------------------------------\u001b[0m",
      "\u001b[0;31mAttributeError\u001b[0m                            Traceback (most recent call last)",
      "\u001b[0;32m<ipython-input-35-900e7ac14487>\u001b[0m in \u001b[0;36m<module>\u001b[0;34m\u001b[0m\n\u001b[1;32m      1\u001b[0m \u001b[0mres\u001b[0m \u001b[0;34m=\u001b[0m \u001b[0msm\u001b[0m\u001b[0;34m.\u001b[0m\u001b[0mtsa\u001b[0m\u001b[0;34m.\u001b[0m\u001b[0mseasonal_decompose\u001b[0m\u001b[0;34m(\u001b[0m\u001b[0mdata1\u001b[0m\u001b[0;34m)\u001b[0m\u001b[0;34m\u001b[0m\u001b[0;34m\u001b[0m\u001b[0m\n\u001b[1;32m      2\u001b[0m \u001b[0mresplot\u001b[0m \u001b[0;34m=\u001b[0m \u001b[0mres\u001b[0m\u001b[0;34m.\u001b[0m\u001b[0mplot\u001b[0m\u001b[0;34m(\u001b[0m\u001b[0;34m)\u001b[0m\u001b[0;34m\u001b[0m\u001b[0;34m\u001b[0m\u001b[0m\n\u001b[0;32m----> 3\u001b[0;31m \u001b[0mres\u001b[0m\u001b[0;34m.\u001b[0m\u001b[0mtight_layout\u001b[0m\u001b[0;34m(\u001b[0m\u001b[0mpad\u001b[0m\u001b[0;34m=\u001b[0m\u001b[0;36m1.0\u001b[0m\u001b[0;34m)\u001b[0m\u001b[0;34m\u001b[0m\u001b[0;34m\u001b[0m\u001b[0m\n\u001b[0m",
      "\u001b[0;31mAttributeError\u001b[0m: 'DecomposeResult' object has no attribute 'tight_layout'"
     ]
    },
    {
     "data": {
      "image/png": "[encoded data removed]",
      "text/plain": [
       "<Figure size 1152x576 with 4 Axes>"
      ]
     },
     "metadata": {
      "needs_background": "light"
     },
     "output_type": "display_data"
    }
   ],
   "source": [
    "res = sm.tsa.seasonal_decompose(data1)\n",
    "resplot = res.plot()\n",
    "res.tight_layout(pad=1.0)"
   ]
  },
  {
   "cell_type": "code",
   "execution_count": 29,
   "metadata": {},
   "outputs": [
    {
     "data": {
      "text/plain": [
       "<AxesSubplot:xlabel='date'>"
      ]
     },
     "execution_count": 29,
     "metadata": {},
     "output_type": "execute_result"
    },
    {
     "data": {
      "image/png": "[encoded data removed]",
      "text/plain": [
       "<Figure size 432x288 with 1 Axes>"
      ]
     },
     "metadata": {
      "needs_background": "light"
     },
     "output_type": "display_data"
    }
   ],
   "source": [
    "#get each component \n",
    "data_decomposed = data1.copy()\n",
    "data_decomposed['trend_component'] = res.trend\n",
    "data_decomposed['seasonal_component'] = res.seasonal\n",
    "data_decomposed['residual_component'] = res.resid\n",
    "\n",
    "data_decomposed.tail(400).plot()"
   ]
  },
  {
   "cell_type": "code",
   "execution_count": 59,
   "metadata": {},
   "outputs": [],
   "source": [
    "top5_kpopg = df_kpopg[(df_kpopg['artist']==\"Red Velvet\") | (df_kpopg['artist']==\"MOMOLAND\") | (df_kpopg['artist']==\"TWICE\") | (df_kpopg['artist']==\"BLACKPINK\") | (df_kpopg['artist']==\"ITZY\")]"
   ]
  },
  {
   "cell_type": "code",
   "execution_count": 60,
   "metadata": {},
   "outputs": [
    {
     "data": {
      "text/plain": [
       "array(['BLACKPINK', 'Red Velvet', 'MOMOLAND', 'TWICE', 'ITZY'],\n",
       "      dtype=object)"
      ]
     },
     "execution_count": 60,
     "metadata": {},
     "output_type": "execute_result"
    }
   ],
   "source": [
    "top5_kpopg['artist'].unique()"
   ]
  },
  {
   "cell_type": "code",
   "execution_count": 64,
   "metadata": {
    "scrolled": true
   },
   "outputs": [
    {
     "data": {
      "text/plain": [
       "Index(['date', 'position', 'track_id', 'track_name', 'artist', 'streams',\n",
       "       'artist_id', 'album_id', 'duration', 'release_date', 'popularity',\n",
       "       'danceability', 'energy', 'key', 'loudness', 'mode', 'speechiness',\n",
       "       'acousticness', 'instrumentalness', 'liveness', 'valence', 'tempo',\n",
       "       'total_followers', 'genres', 'duration_mins'],\n",
       "      dtype='object')"
      ]
     },
     "execution_count": 64,
     "metadata": {},
     "output_type": "execute_result"
    }
   ],
   "source": [
    "top5_kpopg.columns"
   ]
  },
  {
   "cell_type": "markdown",
   "metadata": {},
   "source": [
    "danceability, energy, loudness, valence"
   ]
  },
  {
   "cell_type": "code",
   "execution_count": 72,
   "metadata": {},
   "outputs": [],
   "source": [
    "#get relevant columns\n",
    "\n",
    "songchar = top5_kpopg[['artist','track_id','danceability','valence','energy','loudness']]"
   ]
  },
  {
   "cell_type": "code",
   "execution_count": 85,
   "metadata": {},
   "outputs": [],
   "source": [
    "danceability = songchar.groupby(['artist'])['danceability'].agg('mean').to_frame()"
   ]
  },
  {
   "cell_type": "code",
   "execution_count": 86,
   "metadata": {},
   "outputs": [],
   "source": [
    "energy = songchar.groupby(['artist'])['energy'].agg('mean').to_frame()"
   ]
  },
  {
   "cell_type": "code",
   "execution_count": 87,
   "metadata": {},
   "outputs": [],
   "source": [
    "loudness = songchar.groupby(['artist'])['loudness'].agg('mean').to_frame()"
   ]
  },
  {
   "cell_type": "code",
   "execution_count": 88,
   "metadata": {},
   "outputs": [],
   "source": [
    "valence = songchar.groupby(['artist'])['valence'].agg('mean').to_frame()"
   ]
  },
  {
   "cell_type": "code",
   "execution_count": 89,
   "metadata": {},
   "outputs": [],
   "source": [
    "char = pd.concat([danceability, energy, loudness, valence], axis = 1, sort=False)"
   ]
  },
  {
   "cell_type": "code",
   "execution_count": 91,
   "metadata": {},
   "outputs": [],
   "source": [
    "char = char.reset_index()"
   ]
  },
  {
   "cell_type": "code",
   "execution_count": 92,
   "metadata": {},
   "outputs": [
    {
     "data": {
      "text/html": [
       "<div>\n",
       "<style scoped>\n",
       "    .dataframe tbody tr th:only-of-type {\n",
       "        vertical-align: middle;\n",
       "    }\n",
       "\n",
       "    .dataframe tbody tr th {\n",
       "        vertical-align: top;\n",
       "    }\n",
       "\n",
       "    .dataframe thead th {\n",
       "        text-align: right;\n",
       "    }\n",
       "</style>\n",
       "<table border=\"1\" class=\"dataframe\">\n",
       "  <thead>\n",
       "    <tr style=\"text-align: right;\">\n",
       "      <th></th>\n",
       "      <th>artist</th>\n",
       "      <th>danceability</th>\n",
       "      <th>energy</th>\n",
       "      <th>loudness</th>\n",
       "      <th>valence</th>\n",
       "    </tr>\n",
       "  </thead>\n",
       "  <tbody>\n",
       "    <tr>\n",
       "      <th>0</th>\n",
       "      <td>BLACKPINK</td>\n",
       "      <td>0.707063</td>\n",
       "      <td>0.806855</td>\n",
       "      <td>-3.743387</td>\n",
       "      <td>0.491147</td>\n",
       "    </tr>\n",
       "    <tr>\n",
       "      <th>1</th>\n",
       "      <td>ITZY</td>\n",
       "      <td>0.794888</td>\n",
       "      <td>0.899041</td>\n",
       "      <td>-3.936411</td>\n",
       "      <td>0.643892</td>\n",
       "    </tr>\n",
       "    <tr>\n",
       "      <th>2</th>\n",
       "      <td>MOMOLAND</td>\n",
       "      <td>0.760563</td>\n",
       "      <td>0.823660</td>\n",
       "      <td>-3.465364</td>\n",
       "      <td>0.862168</td>\n",
       "    </tr>\n",
       "    <tr>\n",
       "      <th>3</th>\n",
       "      <td>Red Velvet</td>\n",
       "      <td>0.677476</td>\n",
       "      <td>0.713703</td>\n",
       "      <td>-2.575838</td>\n",
       "      <td>0.464818</td>\n",
       "    </tr>\n",
       "    <tr>\n",
       "      <th>4</th>\n",
       "      <td>TWICE</td>\n",
       "      <td>0.688439</td>\n",
       "      <td>0.892673</td>\n",
       "      <td>-2.368537</td>\n",
       "      <td>0.678362</td>\n",
       "    </tr>\n",
       "  </tbody>\n",
       "</table>\n",
       "</div>"
      ],
      "text/plain": [
       "       artist  danceability    energy  loudness   valence\n",
       "0   BLACKPINK      0.707063  0.806855 -3.743387  0.491147\n",
       "1        ITZY      0.794888  0.899041 -3.936411  0.643892\n",
       "2    MOMOLAND      0.760563  0.823660 -3.465364  0.862168\n",
       "3  Red Velvet      0.677476  0.713703 -2.575838  0.464818\n",
       "4       TWICE      0.688439  0.892673 -2.368537  0.678362"
      ]
     },
     "execution_count": 92,
     "metadata": {},
     "output_type": "execute_result"
    }
   ],
   "source": [
    "char"
   ]
  },
  {
   "cell_type": "code",
   "execution_count": 110,
   "metadata": {
    "scrolled": true
   },
   "outputs": [
    {
     "data": {
      "image/png": "[encoded data removed]",
      "text/plain": [
       "<Figure size 576x504 with 1 Axes>"
      ]
     },
     "metadata": {},
     "output_type": "display_data"
    }
   ],
   "source": [
    "mycolors = [\"#77a9b4\", \"#b88f89\",\"#b88f89\", \"#b88f89\", \"#b88f89\"]\n",
    "sns.set_palette(sns.color_palette(mycolors))\n",
    "sns.set_style(\"whitegrid\")\n",
    "\n",
    "dance_data = char[['artist','danceability']].sort_values(by=\"danceability\", ascending=False)\n",
    "\n",
    "plt.figure(figsize=(8, 7))\n",
    "fig = sns.barplot(x='artist', y='danceability', data=dance_data)\n",
    "fig.set_title('Danceability of Charting Songs', fontsize=17,y=1.02,fontweight='bold')\n",
    "plt.ylabel(\"Danceability\",fontsize=16, labelpad=20)\n",
    "plt.xlabel(\"K-Pop Girl Group\",fontsize=16, labelpad=20)\n",
    "plt.ticklabel_format(axis='y', style='plain')\n",
    "plt.rcParams['xtick.labelsize']=13\n",
    "plt.rcParams['ytick.labelsize']=13\n",
    "plt.ylim([0,1])\n",
    "plt.savefig('danceability.png', bbox_inches='tight')"
   ]
  },
  {
   "cell_type": "code",
   "execution_count": 111,
   "metadata": {
    "scrolled": true
   },
   "outputs": [
    {
     "data": {
      "image/png": "[encoded data removed]",
      "text/plain": [
       "<Figure size 576x504 with 1 Axes>"
      ]
     },
     "metadata": {},
     "output_type": "display_data"
    }
   ],
   "source": [
    "mycolors = [\"#77a9b4\", \"#b88f89\",\"#b88f89\", \"#b88f89\", \"#b88f89\"]\n",
    "sns.set_palette(sns.color_palette(mycolors))\n",
    "sns.set_style(\"whitegrid\")\n",
    "\n",
    "energy_data = char[['artist','energy']].sort_values(by=\"energy\", ascending=False)\n",
    "\n",
    "plt.figure(figsize=(8, 7))\n",
    "fig = sns.barplot(x='artist', y='energy', data=energy_data)\n",
    "fig.set_title('Energy of Charting Songs', fontsize=17,y=1.02,fontweight='bold')\n",
    "plt.ylabel(\"Energy\",fontsize=16, labelpad=20)\n",
    "plt.xlabel(\"K-Pop Girl Group\",fontsize=16, labelpad=20)\n",
    "plt.ticklabel_format(axis='y', style='plain')\n",
    "plt.rcParams['xtick.labelsize']=13\n",
    "plt.rcParams['ytick.labelsize']=13\n",
    "plt.ylim([0,1])\n",
    "plt.savefig('energy.png', bbox_inches='tight')"
   ]
  },
  {
   "cell_type": "code",
   "execution_count": 113,
   "metadata": {},
   "outputs": [
    {
     "data": {
      "image/png": "[encoded data removed]",
      "text/plain": [
       "<Figure size 576x504 with 1 Axes>"
      ]
     },
     "metadata": {},
     "output_type": "display_data"
    }
   ],
   "source": [
    "mycolors = [\"#b88f89\", \"#b88f89\",\"#77a9b4\", \"#b88f89\", \"#b88f89\"]\n",
    "sns.set_palette(sns.color_palette(mycolors))\n",
    "sns.set_style(\"whitegrid\")\n",
    "\n",
    "val_data = char[['artist','valence']].sort_values(by=\"valence\", ascending=False)\n",
    "\n",
    "plt.figure(figsize=(8, 7))\n",
    "fig = sns.barplot(x='artist', y='valence', data=val_data)\n",
    "fig.set_title('Valence of Charting Songs', fontsize=17,y=1.02,fontweight='bold')\n",
    "plt.ylabel(\"Valence\",fontsize=16, labelpad=20)\n",
    "plt.xlabel(\"K-Pop Girl Group\",fontsize=16, labelpad=20)\n",
    "plt.ticklabel_format(axis='y', style='plain')\n",
    "plt.rcParams['xtick.labelsize']=13\n",
    "plt.rcParams['ytick.labelsize']=13\n",
    "plt.ylim([0,1])\n",
    "plt.savefig('valence.png', bbox_inches='tight')"
   ]
  },
  {
   "cell_type": "code",
   "execution_count": null,
   "metadata": {},
   "outputs": [],
   "source": []
  }
 ],
 "metadata": {
  "kernelspec": {
   "display_name": "Python 3",
   "language": "python",
   "name": "python3"
  },
  "language_info": {
   "codemirror_mode": {
    "name": "ipython",
    "version": 3
   },
   "file_extension": ".py",
   "mimetype": "text/x-python",
   "name": "python",
   "nbconvert_exporter": "python",
   "pygments_lexer": "ipython3",
   "version": "3.8.5"
  }
 },
 "nbformat": 4,
 "nbformat_minor": 4
}
